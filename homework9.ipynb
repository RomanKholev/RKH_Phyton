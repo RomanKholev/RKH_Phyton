{
  "nbformat": 4,
  "nbformat_minor": 0,
  "metadata": {
    "colab": {
      "provenance": []
    },
    "kernelspec": {
      "name": "python3",
      "display_name": "Python 3"
    },
    "language_info": {
      "name": "python"
    }
  },
  "cells": [
    {
      "cell_type": "code",
      "source": [
        "import pandas as pd"
      ],
      "metadata": {
        "id": "E-lyEz6kYU6e"
      },
      "execution_count": 1,
      "outputs": []
    },
    {
      "cell_type": "code",
      "source": [
        "df1 = pd.read_csv('sample_data/california_housing_train.csv')"
      ],
      "metadata": {
        "id": "iiMU1J3dZ1MF"
      },
      "execution_count": 15,
      "outputs": []
    },
    {
      "cell_type": "markdown",
      "source": [
        "Домашнее задание\n",
        "1. Определить среднюю стоимость дома где, где количество людей от 0 до 500 (population)\n",
        "2. Узнаь какая максимальная households в зоне минимального значения population"
      ],
      "metadata": {
        "id": "DvxZcy4jEzw3"
      }
    },
    {
      "cell_type": "code",
      "source": [
        "df1.loc[df1['population'] < 500, ['median_house_value']].median() #Определить среднюю стоимость дома где, где количество людей от 0 до 500 (population)"
      ],
      "metadata": {
        "colab": {
          "base_uri": "https://localhost:8080/"
        },
        "id": "P-60mVOXDrLK",
        "outputId": "b4e497b1-8e5e-44f6-bc5b-01a078fc8cf1"
      },
      "execution_count": 16,
      "outputs": [
        {
          "output_type": "execute_result",
          "data": {
            "text/plain": [
              "median_house_value    169500.0\n",
              "dtype: float64"
            ]
          },
          "metadata": {},
          "execution_count": 16
        }
      ]
    },
    {
      "cell_type": "code",
      "metadata": {
        "id": "n42HCPLefenI",
        "colab": {
          "base_uri": "https://localhost:8080/"
        },
        "outputId": "46d1065f-a30f-4d1e-c06e-46fd5edfe5a6"
      },
      "source": [
        "df1.loc[df1['population'] == df1['population'].min(), ['households']].max() #Узнаь какая максимальная households в зоне минимального значения population"
      ],
      "execution_count": 17,
      "outputs": [
        {
          "output_type": "execute_result",
          "data": {
            "text/plain": [
              "households    4.0\n",
              "dtype: float64"
            ]
          },
          "metadata": {},
          "execution_count": 17
        }
      ]
    }
  ]
}